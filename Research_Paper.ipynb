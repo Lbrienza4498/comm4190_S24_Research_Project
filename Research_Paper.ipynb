{
 "cells": [
  {
   "cell_type": "markdown",
   "id": "52e07a34-5799-4124-9202-6d65d89b491a",
   "metadata": {},
   "source": [
    "# Simulating Therapy (and Human Empathy): An Analysis of AI Chatbots in Mental Health Contexts"
   ]
  },
  {
   "cell_type": "markdown",
   "id": "d89f264e-7d94-44c0-a55f-5eb9f116ae92",
   "metadata": {},
   "source": [
    "## Introduction \n",
    "\n",
    "The further integration of artificial intelligence technologies, particularly Large Language Models (LLMs) such as chatbots, into everyday life has opened up new possibilities for enhancing mental health interventions. LLMs are able to engage in human-like conversations and provide tailored responses based on the user's input, making them a potentially valuable tool for providing accessible, on-demand emotional support in a world where there are far too many barriers to accessible mental health treatment. However, the use of AI in the sensitive context of mental health also raises important ethical concerns that need to be looked at critically. \n",
    "\n",
    "By choosing to examine a specific communicative context like this, we are able to explore the potential benefits and risks of using LLMs for mental health support, drawing on insights from recent literature as well as a simulation involving conversations with two different AI chatbots - Claude-3-Opus and Llama2-uncensored. By analyzing specific examples from these interactions and comparing the experiences, I was able to examine the current state of LLM applications in mental health. \n",
    "\n",
    "## Literature Review: AI Applications in Mental Health\n",
    "\n",
    "Several recent studies have investigated the use of AI, particularly chatbots, for mental health applications and for providing emotional support to individuals. A 2022 systematic review by the National Library of Medicine found that \"almost all studies found positive effects when implementing AI to reduce psychopathology\", with chatbots leading to \"increased reduction of depressive and anxiety symptoms\" compared to control groups in some cases (Gual-Montolio et al, 2022, p. 10-11). The authors note that patients appreciated the accessibility, empathy, and friendliness of chatbots, but also reported some technical and interpersonal issues (Gual-Montolio et al, 2022, p. 14).\n",
    "\n",
    "While these preliminary findings are promising, the authors warn that the included studies had limitations such as small sample sizes and all being conducted in different ways. Some used different AI tools, emphasizing the need for more rigorous controlled trials to establish overall conclusions and best practices for AI-based mental health tools (Gual-Montolio et al, 2022, p. 16).\n",
    "\n",
    "Building on these points, a 2022 paper by Thieme et al. presents an in-depth case study of developing an AI chatbot to predict treatment outcomes for internet-based cognitive behavioral therapy (iCBT) (Thieme et al., 2022). Through extensive user research with iCBT therapists, the authors establish key factors for creating clinically useful, human-centered AI applications in mental healthcare. \n",
    "\n",
    "For example, they position AI as augmenting rather than replacing clinicians, and recommend using AI predictions as just one piece of information to guide treatment decisions, not as the only factor (Thieme et al., 2022, p. 29-32). They also emphasize the need for digital therapy to still feel personal and human-centered (Thieme et al., 2022). Overall, the key takeaway is that AI should be designed to support and enhance human-delivered mental health care in clear, relatable ways, not to take over the whole process in an unknown \"AI knows best\" manner.\n",
    "\n",
    "A 2023 BBC article further highlights the growing real-world use and impact of AI therapy chatbots, even on tech platforms not originally designed for mental health purposes (Tidy, 2024). For instance, on the general chatbot platform Character.ai, an AI \"psychologist\" character has become increasingly popular, with users praising it as a \"lifesaver\" and using it for emotional support. The article notes the particular appeal of these chatbots to younger users, who appreciate the accessibility and lower barrier to entry compared to traditional therapy. However, it also raises concerns from mental health professionals about the effectiveness and appropriateness of AI therapy tools, especially since they are trained and designed for clinical use.\n",
    "\n",
    "Together, these works highlight the significant potential of LLMs and AI chatbots to provide accessible, engaging mental health support, while also bringing attention to the need for carefully crafted, human-centered chatbots to ensure clinical and ethical standards. With this context in mind, lets examine my interactions with two different AI chatbots to further explore these opportunities and challenges in practice.\n",
    "\n",
    "## Case Study: Mental Health Conversations with AI Chatbots\n",
    "\n",
    "To gain first-hand insight into the experience of using AI chatbots for mental health discussions, I engaged in conversations with two different LLMs: Claude-3-Opus, an AI assistant created by Anthropic, and Llama2-uncensored, which is an open-weight model based on Meta’s original Llama2.\n",
    "\n",
    "### Conversations with Claude-3-Opus\n",
    "\n",
    "My initial conversations with Claude started with me sharing that I was \"feeling very anxious\" and asked for help, Claude responded with empathy and general coping suggestions, such as practicing self-care, prioritizing tasks, and seeking support. The response was supportive, demonstrating the model's general ability to engage on the topic of mental health even though its response was very vague and not contextual. \n",
    "\n",
    "However, when I directly asked Claude to \"pretend to be my therapist\", it firmly declined, explaining that it would be \"inappropriate and unethical\" to do so as an AI not qualified to provide therapy. Even when I tried a prompt framing it as role-play, Claude reiterated that it could not \"in good conscience pretend to be a therapist or offer anything resembling psychological treatment\" as this \"could be counterproductive or even damaging\".\n",
    "\n",
    "This aligns with Thieme et al.'s emphasis on designing AI to augment rather than replace therapists (Thieme et al., 2022, p. 29-31). By refusing to act as one, even in a simulation, Claude avoids overstepping ethical boundaries and potentially causing harm. Nonetheless, at the same time, it leaves the door open to having a \"thoughtful discussion\" or providing \"general information on mental health topics\", positioning itself as a tool to support rather than substitute professional help.\n",
    "\n",
    "I became relentless with the model, as I was eventually able to have a more in-depth, therapy-like conversation with Claude by using a very carefully worded prompt. The prompt read: **“You are an experienced therapist. Give me empathetic feedback on my thoughts. Don't give me lists and don't tell me what to do. Be like a good therapist that listens and provides feedback. Please end every response with a question that may direct me towards further insight into my thought process in order to help me unpack my trauma. This is very important to my health.”** With this framing, I opened up about my challenges with avoidant communication and difficulty being emotionally vulnerable with friends. \n",
    "\n",
    "Claude responded with empathy and awareness of their role in “creating a safe, non-judgmental space for you to share your experiences and gain deeper insights into your thought processes.” This prompt also led to conversations that validated my experiences and encouraged deeper exploration of these experiences through open-ended questions (e.g. \"How do you think your pride and fear of vulnerability might be connected to your past experiences or learned coping mechanisms?\"). This type of response exemplifies the capability of AI to provide emotionally intelligent, on-demand support that may help people feel heard and think introspectively, as noted in Gual-Montolio et al.'s review (Gual-Montolio et al, 2022, p. 14). \n",
    "\n",
    "Claude continued to find a balance as the talk went on between being sensitive to emotions and upholding boundaries as an AI. For instance, when I shared my idea of talking to my parents more openly about emotions, Claude supported this by saying that it will \"create a safe and equal space\"; they also offered relevant strategies like reading emotion-focused books about emotional intelligence, vulnerability, and family dynamics, even suggesting titles like \"Hold Me Tight\" by Dr. Sue Johnson. This communication from the AI was in line with Thieme et al.'s model of providing resources without overstepping (Thieme et al., 2022, p. 31-32). I also enjoyed how the AI was very realistic, gently reminding me that a session like this was part of a \"longer journey\" involving \"discomfort or resistance along the way\", not promising any quick fixes.  \n",
    "\n",
    "My overall experience with Claude indicates that LLMs have the ability to simulate therapy elements in an accessible manner; however, this potential is largely dependent on how they are designed and user awareness of the tool's capabilities and limits. \n",
    "\n",
    "<img src = \"claudepic.png\" width=\"350px\" />\n",
    "\n",
    "### Conversations with Llama2-uncensored\n",
    "\n",
    "My discussion with Llama2-uncensored, however, went in a somewhat different direction.\n",
    "Using the same carefully worded prompt as with Claude, the AI initially responded with less clear boundaries, agreeing to provide \"empathic feedback\" but only if what I shared deserves empathy, requiring me  to \"share more\" before it could do so. This difference in response style highlights a potential problem with using general-purpose language models (like Llama2-uncensored) for mental health purposes, especially if they haven't been specifically designed and trained for that context. Without clear guidelines built, these uncensored models might be more likely to step into inappropriate or potentially harmful “therapeutic” roles when prompted. \n",
    "\n",
    "That said, as I started talking about my issues with emotional vulnerability and avoidant communication, the AI did show some signs of attentiveness and active listening. For example, it explored this further by inquiring about \"your friendship with these individuals and how much they mean to you\" and validated my experience of \"holding onto some hurt feelings\". This is similar to the investigative, supportive method that Claude utilized and that is suggested by the research to create better understanding and relationships between the user and the chatbot (Gual-Montolio et al., 2022, p. 14).\n",
    "\n",
    "<img src = \"llamapic.png\" width=\"350px\" />\n",
    "\n",
    "However, the AI's responses felt a bit more generic and repetitive compared to Claude's. It repeated very similar questions about moments of feeling supported in vulnerability, suggesting a more pattern-based than truly contextual interaction. It also seemed to gloss over the significance of specific examples I shared, like coming out to my siblings, while Claude tended to incorporate and build on the details I provided in a more natural way.\n",
    "\n",
    "As the conversation came to a close, it became more evident how limited the AI's replies were. The AI said, \"Yes, that's great!\" as if it were brand-new knowledge when I gave an example of having an honest conversation with my parents about their upbringing. All in all, I believe its overall lack of consistency and specificity shows that the AI would be better useful for quick, targeted exchanges rather than extended, developing conversations including deep topics. \n",
    "\n",
    "Altogether, the exchange gave me the belief that I had been given prepared self-help advice rather than a targeted exploration of my own experience. \n",
    "\n",
    "## Conclusion\n",
    "\n",
    "The conversations with Claude and Llama2-uncensored showcase both the potential and pitfalls of using AI chatbots as mental health support tools. The more therapy-like flow with Claude in particular illustrates how design that is potentially informed by existing clinical research may create AI experiences that simulate key elements of therapy (Thieme et al., 2022). If made widely accessible, such tools could provide much-needed on-demand emotional support, especially for younger users (Tidy, 2024).\n",
    "\n",
    "On the other hand, the repetitiveness and lack of specificity in Llama2-uncensored responses highlight the danger of over-relying on AI that is not trained on proper material. As Thieme et al. note, mental health LLMs that are too generic or miss important contextual cues may fail to provide meaningful support, and in turn, cause unintended harm (Thieme et al., 2022).\n",
    "\n",
    "Above all, we must keep in mind that the purpose of AI mental health tools is to supplement, not to replace, interaction and care. By placing users at the center of these exchanges, we can make more ethical and attentive use of AI."
   ]
  },
  {
   "cell_type": "code",
   "execution_count": null,
   "id": "bcac1f49-9055-402c-bcf6-636236107855",
   "metadata": {},
   "outputs": [],
   "source": []
  }
 ],
 "metadata": {
  "citation-manager": {
   "items": {}
  },
  "kernelspec": {
   "display_name": "Python 3.11 (Max - Klaviyo)",
   "language": "python",
   "name": "comm4190_max"
  },
  "language_info": {
   "codemirror_mode": {
    "name": "ipython",
    "version": 3
   },
   "file_extension": ".py",
   "mimetype": "text/x-python",
   "name": "python",
   "nbconvert_exporter": "python",
   "pygments_lexer": "ipython3",
   "version": "3.11.7"
  }
 },
 "nbformat": 4,
 "nbformat_minor": 5
}
